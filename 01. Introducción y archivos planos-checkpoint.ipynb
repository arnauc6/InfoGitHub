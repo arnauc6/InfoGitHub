{
 "cells": [
  {
   "cell_type": "markdown",
   "metadata": {},
   "source": [
    "# Introducción y archivos planos\n",
    "\n",
    "En este capítulo, aprenderá cómo importar datos en Python desde todos los tipos de archivos planos, una forma simple y frecuente de almacenamiento de datos. Anteriormente aprendió cómo usar NumPy y Pandas; aprenderá a usar estos paquetes para importar archivos planos, y también cómo personalizar sus importaciones.\n",
    "\n",
    "## 1. Importación de archivos de texto completos\n",
    "En este ejercicio, trabajará con el archivo **moby_dick.txt**. ¡Es un archivo de texto que contiene las frases iniciales de Moby Dick, una de las grandes novelas americanas! Aquí obtendrá experiencia abriendo un archivo de texto, imprimiendo su contenido en el shell y, finalmente, cerrándolo."
   ]
  },
  {
   "cell_type": "code",
   "execution_count": 7,
   "metadata": {},
   "outputs": [
    {
     "name": "stdout",
     "output_type": "stream",
     "text": [
      "CHAPTER 1. Loomings.\n",
      "\n",
      "Call me Ishmael. Some years ago--never mind how long precisely--having\n",
      "little or no money in my purse, and nothing particular to interest me on\n",
      "shore, I thought I would sail about a little and see the watery part of\n",
      "the world. It is a way I have of driving off the spleen and regulating\n",
      "the circulation. Whenever I find myself growing grim about the mouth;\n",
      "whenever it is a damp, drizzly November in my soul; whenever I find\n",
      "myself involuntarily pausing before coffin warehouses, and bringing up\n",
      "the rear of every funeral I meet; and especially whenever my hypos get\n",
      "such an upper hand of me, that it requires a strong moral principle to\n",
      "prevent me from deliberately stepping into the street, and methodically\n",
      "knocking people's hats off--then, I account it high time to get to sea\n",
      "as soon as I can. This is my substitute for pistol and ball. With a\n",
      "philosophical flourish Cato throws himself upon his sword; I quietly\n",
      "take to the ship. There is nothing surprising in this. If they but knew\n",
      "it, almost all men in their degree, some time or other, cherish very\n",
      "nearly the same feelings towards the ocean with me.\n",
      "False\n",
      "True\n"
     ]
    }
   ],
   "source": [
    "# Open a file: file\n",
    "file = open('moby_dick.txt', 'r')\n",
    "\n",
    "# Print it\n",
    "print(file.read())\n",
    "\n",
    "# Check whether file is closed\n",
    "print(file.closed)\n",
    "\n",
    "# Close file\n",
    "file.close()\n",
    "\n",
    "# Check whether file is closed\n",
    "print(file.closed)"
   ]
  },
  {
   "cell_type": "markdown",
   "metadata": {},
   "source": [
    "## 2. Importación de archivos de texto línea por línea\n",
    "Para archivos de gran tamaño, es posible que no deseemos imprimir todo su contenido: es posible que desee imprimir solo las primeras líneas. Ingrese el método `readline()`, que le permite hacer esto. Cuando se abre un archivo llamado `file`, puede imprimir la primera línea ejecutando `file.readline()`. Si ejecuta el mismo comando nuevamente, se imprimirá la segunda línea, y así sucesivamente.\n",
    "\n",
    "En el video introductorio, Hugo también introdujo el concepto de un `administrador de contexto`. Mostró que puede vincular un archivo variable utilizando una construcción de gestor de contexto:\n",
    "\n",
    ">```python\n",
    "with open('huck_finn.txt') as file:\n",
    "```\n",
    "\n",
    "Mientras se encuentre dentro de este constructo, la variable `file` estará obligado a abrirse `open('huck_finn.txt')`; por lo tanto para imprimir el archivo todo el código que necesita ejecutar es:\n",
    "\n",
    ">```python\n",
    "with open('huck_finn.txt') as file:\n",
    "    print(file.read())\n",
    "```\n",
    "\n",
    "Ahora usará estas herramientas para imprimir las primeras líneas de `moby_dick.txt`"
   ]
  },
  {
   "cell_type": "code",
   "execution_count": 9,
   "metadata": {},
   "outputs": [
    {
     "name": "stdout",
     "output_type": "stream",
     "text": [
      "CHAPTER 1. Loomings.\n",
      "\n",
      "\n",
      "\n",
      "Call me Ishmael. Some years ago--never mind how long precisely--having\n",
      "\n"
     ]
    }
   ],
   "source": [
    "# Lee e imprime las primeras 3 líneas\n",
    "with open('moby_dick.txt') as file:\n",
    "    print(file.readline())\n",
    "    print(file.readline())\n",
    "    print(file.readline())"
   ]
  },
  {
   "cell_type": "code",
   "execution_count": null,
   "metadata": {},
   "outputs": [],
   "source": []
  },
  {
   "cell_type": "code",
   "execution_count": null,
   "metadata": {},
   "outputs": [],
   "source": []
  }
 ],
 "metadata": {
  "kernelspec": {
   "display_name": "Python 2",
   "language": "python",
   "name": "python2"
  },
  "language_info": {
   "codemirror_mode": {
    "name": "ipython",
    "version": 2
   },
   "file_extension": ".py",
   "mimetype": "text/x-python",
   "name": "python",
   "nbconvert_exporter": "python",
   "pygments_lexer": "ipython2",
   "version": "2.7.12"
  }
 },
 "nbformat": 4,
 "nbformat_minor": 2
}
